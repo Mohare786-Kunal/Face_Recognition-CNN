{
  "nbformat": 4,
  "nbformat_minor": 0,
  "metadata": {
    "colab": {
      "provenance": []
    },
    "kernelspec": {
      "name": "python3",
      "display_name": "Python 3"
    },
    "language_info": {
      "name": "python"
    }
  },
  "cells": [
    {
      "cell_type": "markdown",
      "source": [
        "## ***Face_Recognition***"
      ],
      "metadata": {
        "id": "AADwjqfsLMtZ"
      }
    },
    {
      "cell_type": "code",
      "source": [
        "import numpy as np\n",
        "import tensorflow as tf\n",
        "from tensorflow.keras import layers, models\n",
        "from sklearn.model_selection import train_test_split\n",
        "import os\n",
        "\n",
        "# Define class names\n",
        "classes = {\n",
        "    0: \"Kunal\",\n",
        "    1: \"Priti\",\n",
        "    2: \"Rohit\",\n",
        "    3: \"Walter\",\n",
        "    4: \"Harvey\"\n",
        "}"
      ],
      "metadata": {
        "id": "q4i_D2O2Kf_7"
      },
      "execution_count": null,
      "outputs": []
    },
    {
      "cell_type": "code",
      "source": [
        "# Function to load images and labels for training\n",
        "def load_images_from_folder(folder):\n",
        "    images = []\n",
        "    labels = []\n",
        "    for filename in os.listdir(folder):\n",
        "        img = tf.keras.preprocessing.image.load_img(os.path.join(folder, filename), target_size=(100, 100))\n",
        "        img_array = tf.keras.preprocessing.image.img_to_array(img)\n",
        "        images.append(img_array)\n",
        "        labels.append(int(folder[-1]) - 1)  # Extract the person number from the folder name and convert to 0-based index\n",
        "    return images, labels"
      ],
      "metadata": {
        "id": "m28dPkGBKk4A"
      },
      "execution_count": null,
      "outputs": []
    },
    {
      "cell_type": "code",
      "source": [
        "# Load training data\n",
        "train_data = []\n",
        "train_labels = []\n",
        "for i in range(1, 6):\n",
        "    folder_name = f\"person_{i}\"\n",
        "    images, labels = load_images_from_folder(folder_name)\n",
        "    train_data.extend(images)\n",
        "    train_labels.extend(labels)\n",
        "\n",
        "train_data = np.array(train_data)\n",
        "train_labels = np.array(train_labels)"
      ],
      "metadata": {
        "id": "JOj3St5VKmx4"
      },
      "execution_count": null,
      "outputs": []
    },
    {
      "cell_type": "code",
      "source": [
        "# Split data into training and validation sets\n",
        "train_images, val_images, train_labels, val_labels = train_test_split(train_data, train_labels, test_size=0.2, random_state=42)"
      ],
      "metadata": {
        "id": "HdC6H6uRKpGl"
      },
      "execution_count": null,
      "outputs": []
    },
    {
      "cell_type": "code",
      "source": [
        "# Normalize pixel values to be between 0 and 1\n",
        "train_images = train_images / 255.0\n",
        "val_images = val_images / 255.0"
      ],
      "metadata": {
        "id": "tpAijQCjKpEI"
      },
      "execution_count": null,
      "outputs": []
    },
    {
      "cell_type": "code",
      "source": [
        "# Define the CNN model\n",
        "model = models.Sequential([\n",
        "    layers.Conv2D(32, (3, 3), activation='relu', input_shape=(100, 100, 3)),\n",
        "    layers.MaxPooling2D((2, 2)),\n",
        "    layers.Conv2D(64, (3, 3), activation='relu'),\n",
        "    layers.MaxPooling2D((2, 2)),\n",
        "    layers.Conv2D(128, (3, 3), activation='relu'),\n",
        "    layers.MaxPooling2D((2, 2)),\n",
        "    layers.Flatten(),\n",
        "    layers.Dense(128, activation='relu'),\n",
        "    layers.Dense(5, activation='softmax')  # 5 output classes for 5 people\n",
        "])\n",
        "\n",
        "model.compile(optimizer='adam',\n",
        "              loss='sparse_categorical_crossentropy',\n",
        "              metrics=['accuracy'])"
      ],
      "metadata": {
        "id": "B9pGiqI3KpBT"
      },
      "execution_count": null,
      "outputs": []
    },
    {
      "cell_type": "code",
      "source": [
        "# Train the model\n",
        "model.fit(train_images, train_labels, epochs=10, validation_data=(val_images, val_labels))"
      ],
      "metadata": {
        "id": "24SPqcgvKxFM"
      },
      "execution_count": null,
      "outputs": []
    },
    {
      "cell_type": "code",
      "source": [
        "# Load test data\n",
        "test_data = []\n",
        "test_labels = []\n",
        "for i in range(1, 6):\n",
        "    folder_name = f\"test_person_{i}\"\n",
        "    images, labels = load_images_from_folder(folder_name)\n",
        "    test_data.extend(images)\n",
        "    test_labels.extend(labels)\n",
        "\n",
        "test_data = np.array(test_data)\n",
        "test_labels = np.array(test_labels)"
      ],
      "metadata": {
        "id": "l8Em3HesKxCf"
      },
      "execution_count": null,
      "outputs": []
    },
    {
      "cell_type": "code",
      "source": [
        "# Normalize test data\n",
        "test_data = test_data / 255.0\n",
        "\n",
        "# Evaluate the model on test data\n",
        "test_loss, test_acc = model.evaluate(test_data, test_labels)\n",
        "print(\"Test accuracy:\", test_acc)"
      ],
      "metadata": {
        "id": "ejRa4Q8LLE9Y"
      },
      "execution_count": null,
      "outputs": []
    },
    {
      "cell_type": "code",
      "source": [
        "# Single prediction\n",
        "def predict_single_image(image_path):\n",
        "    img = tf.keras.preprocessing.image.load_img(image_path, target_size=(100, 100))\n",
        "    img_array = tf.keras.preprocessing.image.img_to_array(img)\n",
        "    img_array = np.expand_dims(img_array, axis=0)  # Add batch dimension\n",
        "    img_array = img_array / 255.0  # Normalize pixel values\n",
        "    prediction = model.predict(img_array)\n",
        "    predicted_class = np.argmax(prediction)\n",
        "    return f\"Predicted person: {classes[predicted_class]}\"\n",
        "\n",
        "# Example of single prediction\n",
        "image_path = \"Kunal1.jpg\"  # Replace with your image path\n",
        "prediction_result = predict_single_image(image_path)\n",
        "print(prediction_result)"
      ],
      "metadata": {
        "id": "CQIpL-PKKyJ9"
      },
      "execution_count": null,
      "outputs": []
    },
    {
      "cell_type": "code",
      "source": [],
      "metadata": {
        "id": "zGu43KxmKyGh"
      },
      "execution_count": null,
      "outputs": []
    },
    {
      "cell_type": "code",
      "source": [],
      "metadata": {
        "id": "LXSVN_B8KyD8"
      },
      "execution_count": null,
      "outputs": []
    },
    {
      "cell_type": "code",
      "execution_count": null,
      "metadata": {
        "id": "DIvrttFZJqG8"
      },
      "outputs": [],
      "source": [
        "\n",
        "\n",
        "\n",
        "\n",
        "\n",
        "\n",
        "\n",
        "\n",
        "\n",
        "\n",
        "\n",
        "\n",
        "\n",
        "\n",
        "\n",
        "\n"
      ]
    }
  ]
}
